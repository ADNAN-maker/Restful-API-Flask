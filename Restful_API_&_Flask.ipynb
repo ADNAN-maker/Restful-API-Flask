{
  "nbformat": 4,
  "nbformat_minor": 0,
  "metadata": {
    "colab": {
      "provenance": []
    },
    "kernelspec": {
      "name": "python3",
      "display_name": "Python 3"
    },
    "language_info": {
      "name": "python"
    }
  },
  "cells": [
    {
      "cell_type": "code",
      "execution_count": null,
      "metadata": {
        "id": "9z6NRaypxTS-"
      },
      "outputs": [],
      "source": []
    },
    {
      "cell_type": "markdown",
      "source": [
        "Q1. What is a RESTful API?\n",
        "***\n",
        "A RESTful API, or REST API, is a way for computer systems to exchange information over the internet. It's based on the Representational State Transfer (REST) architectural style, which uses standard HTTP methods (like GET, POST, PUT, DELETE) to interact with resources. Essentially, it provides a set of rules for how clients and servers should communicate when accessing and manipulating data."
      ],
      "metadata": {
        "id": "fu2u7MZ9loln"
      }
    },
    {
      "cell_type": "markdown",
      "source": [
        "Q2.  Explain the concept of API specification.\n",
        "***\n",
        "An API specification is a formal document that outlines how an API should function and interact with other systems. It acts as a blueprint, defining the structure, data formats, and behavior of the API. This allows developers to understand how to use the API without needing to see the underlying code or implementation details."
      ],
      "metadata": {
        "id": "GobgVtb5l5NF"
      }
    },
    {
      "cell_type": "markdown",
      "source": [
        "Q3. What is Flask, and why is it popular for building APIs?\n",
        "***\n",
        "Flask is a lightweight micro web framework in Python, well-suited for building RESTful APIs due to its flexibility and simplicity. Its popularity stems from being easy to learn, maintain, and extend. Flask is often preferred for API development because it provides a streamlined approach to building web applications and APIs without unnecessary overhead."
      ],
      "metadata": {
        "id": "kvPn1gkomJyF"
      }
    },
    {
      "cell_type": "markdown",
      "source": [
        "Q4. What is routing in Flask?\n",
        "***\n",
        "In Flask, routing is the process of mapping specific URLs to Python functions. When a user accesses a URL, Flask uses the routing system to determine which function should handle that request. This allows you to build dynamic web applications where different URLs trigger different actions.\n",
        "Here's how routing works in Flask:\n",
        "@app.route() Decorator: The primary way to define routes is by using the @app.route() decorator. This decorator is applied to a Python function, associating it with a specific URL pattern."
      ],
      "metadata": {
        "id": "_oIHnzI6m5kl"
      }
    },
    {
      "cell_type": "markdown",
      "source": [
        "Q5. How do you create a simple Flask application?\n",
        "***\n"
      ],
      "metadata": {
        "id": "6NRcRbi8nL41"
      }
    },
    {
      "cell_type": "code",
      "source": [
        "from flask import Flask\n",
        "\n",
        "app = Flask(__name__)\n",
        "\n",
        "@app.route(\"/\")\n",
        "def hello_world():\n",
        "    return \"<p>Hello, World!</p>\"\n",
        "if __name__ == \"__main__\":\n",
        "    app.run(debug=True)\n"
      ],
      "metadata": {
        "id": "zSEhW0H3619w"
      },
      "execution_count": null,
      "outputs": []
    },
    {
      "cell_type": "markdown",
      "source": [
        "Q6. What are HTTP methods used in RESTful APIs?\n",
        "***\n",
        "Ans. In RESTful APIs, the primary HTTP methods used for interacting with resources are GET, POST, PUT, PATCH, and DELETE. These methods correspond to the CRUD operations of Create, Read, Update, and Delete."
      ],
      "metadata": {
        "id": "NiwxkaI1403x"
      }
    },
    {
      "cell_type": "markdown",
      "source": [
        "Q7. What is the purpose of the @app.route() decorator in Flask?\n",
        "***\n",
        "Ans. The @app.route() decorator in Flask serves the purpose of associating a URL path with a Python function, thereby defining a \"route\" within a web application. When a user's web browser requests a specific URL, Flask uses these defined routes to determine which Python function should be executed to handle that request and generate a response."
      ],
      "metadata": {
        "id": "rgxYtRsv-8UF"
      }
    },
    {
      "cell_type": "markdown",
      "source": [
        "Q8. What is the difference between GET and POST HTTP methods?\n",
        "***\n",
        "Ans. HTTP GET method is primarily utilised at the client-side to transmit a request to a particular server to get the data. Through this technique, the server allows us to accept the data and not modify its state. The HTTP Get method is used just for the view purpose, and we cannot make any changes.\n",
        "\n",
        "HTTP POST Post method is primarily utilised at the client-side to transmit data to a particular server in order to construct certain data. This technique ultimately leads to the creation of new data or revamping an existing one."
      ],
      "metadata": {
        "id": "kXFIG2wt_X-x"
      }
    },
    {
      "cell_type": "markdown",
      "source": [
        "Q9. How do you handle errors in Flask APIs?\n",
        "***\n",
        "Ans. Error handling in a Flask API primarily involves using Flask's built-in error handling mechanisms and potentially creating custom exception classes for more specific scenarios.\n",
        "* Using Flask's @app.errorhandler Decorator:\n",
        "* Raising Werkzeug Exceptions:\n",
        "* Custom Exception Classes:"
      ],
      "metadata": {
        "id": "1Hmn2ch0AHbd"
      }
    },
    {
      "cell_type": "markdown",
      "source": [
        "Q10. How do you connect Flask to a SQL database?\n",
        "***\n",
        "Ans. Flask doesn’t have a built-in way to handle databases, so it relies on SQLAlchemy, a powerful library that makes working with databases easier. SQLAlchemy provides an Object Relational Mapper (ORM),"
      ],
      "metadata": {
        "id": "F7ErzdfhBdsy"
      }
    },
    {
      "cell_type": "markdown",
      "source": [
        "Q11. What is the role of Flask-SQLAlchemy?\n",
        "***\n",
        "Ans. Using raw SQL in Flask web applications to perform CRUD operations on database can be tedious. Instead, SQLAlchemy, a Python toolkit is a powerful OR Mapper that gives application developers the full power and flexibility of SQL. Flask-SQLAlchemy is the Flask extension that adds support for SQLAlchemy to your Flask application."
      ],
      "metadata": {
        "id": "IIXu6jZ7C0KY"
      }
    },
    {
      "cell_type": "markdown",
      "source": [
        "Q12. What are Flask blueprints, and how are they useful?\n",
        "***\n",
        "Ans. Flask blueprints are a way to organize your Flask application into reusable and most importantly maintainable units. With blueprints, you can break your application into smaller, more manageable pieces, making it easier to maintain and scale."
      ],
      "metadata": {
        "id": "iN4H3yyYMI4K"
      }
    },
    {
      "cell_type": "markdown",
      "source": [
        "Q13. What is the purpose of Flask's request object?\n",
        "***\n",
        "Ans. The request object in Flask serves as a central point of access to the incoming HTTP request data sent by a client to the server. Its primary purpose is to provide a convenient and structured way for developers to interact with various components of an HTTP request within their Flask view functions.\n",
        "* Accessing Form Data:\n",
        "* Retrieving Query Parameters:\n",
        "* Handling File Uploads:\n",
        "* Inspecting Headers:\n",
        "* Accessing Cookies:\n",
        "* Determining HTTP Method:\n",
        "* Accessing Request Body (e.g., JSON):\n",
        "* Obtaining Request Context Information:"
      ],
      "metadata": {
        "id": "qIvXs07GU4KR"
      }
    },
    {
      "cell_type": "markdown",
      "source": [
        "Q14. How do you create a RESTful API endpoint using Flask?\n",
        "***\n",
        "Ans. Creating a RESTful API endpoint using Flask involves defining routes that correspond to specific HTTP methods (GET, POST, PUT, DELETE) for interacting with resources."
      ],
      "metadata": {
        "id": "bIuZZBVrpjmL"
      }
    },
    {
      "cell_type": "code",
      "source": [
        "#1. Basic Flask Endpoint:\n",
        "from flask import Flask, jsonify, request\n",
        "\n",
        "app = Flask(__name__)\n",
        "\n",
        "items = [\n",
        "    {\"id\": 1, \"name\": \"Item A\", \"description\": \"This is item A\"},\n",
        "    {\"id\": 2, \"name\": \"Item B\", \"description\": \"This is item B\"}\n",
        "]\n",
        "\n",
        "@app.route('/items', methods=['GET'])\n",
        "def get_items():\n",
        "    return jsonify(items)\n",
        "\n",
        "@app.route('/items/<int:item_id>', methods=['GET'])\n",
        "def get_item(item_id):\n",
        "    item = next((item for item in items if item['id'] == item_id), None)\n",
        "    if item:\n",
        "        return jsonify(item)\n",
        "    return jsonify({\"message\": \"Item not found\"}), 404\n",
        "\n",
        "@app.route('/items', methods=['POST'])\n",
        "def create_item():\n",
        "    new_item = request.json\n",
        "    if not new_item or 'name' not in new_item:\n",
        "        return jsonify({\"message\": \"Name is required\"}), 400\n",
        "\n",
        "    new_item['id'] = len(items) + 1\n",
        "    items.append(new_item)\n",
        "    return jsonify(new_item), 201\n",
        "\n",
        "if __name__ == '__main__':\n",
        "    app.run(debug=True)"
      ],
      "metadata": {
        "id": "kNNhF4c2quTb"
      },
      "execution_count": null,
      "outputs": []
    },
    {
      "cell_type": "markdown",
      "source": [
        "Q15. What is the purpose of Flask's jsonify() function?\n",
        "***\n",
        "Ans. Flask's jsonify() function's primary purpose is to convert Python dictionaries or lists into a JSON (JavaScript Object Notation) response, which is commonly used for data exchange in web applications. It simplifies the process by automatically handling the serialization and setting the appropriate Content-Type header to application/json."
      ],
      "metadata": {
        "id": "SGcBBMDEryod"
      }
    },
    {
      "cell_type": "markdown",
      "source": [
        "Q16. Explain Flask’s url_for() function?\n",
        "***\n",
        "Ans. Flask's url_for() function dynamically builds a URL for a specific view function. Instead of hard-coding URLs in templates or Python code, url_for() generates them based on the name of the view function and any required arguments. This approach offers several benefits:\n",
        "* Maintainability\n",
        "* Flexibility\n",
        "* Automatic Escaping\n",
        "* Blueprint Support\n",
        "* Absolute Paths\n",
        "\n",
        "The url_for() function takes the name of the view function as its first argument. For routes with variable parts, keyword arguments are passed corresponding to those variables."
      ],
      "metadata": {
        "id": "AtYu5QuftJn6"
      }
    },
    {
      "cell_type": "code",
      "source": [
        "from flask import Flask, url_for\n",
        "\n",
        "app = Flask(__name__)\n",
        "\n",
        "@app.route('/')\n",
        "def index():\n",
        "    return 'Home Page'\n",
        "\n",
        "@app.route('/user/<username>')\n",
        "def show_user_profile(username):\n",
        "    return f'User: {username}'\n",
        "\n",
        "@app.route('/post/<int:post_id>')\n",
        "def show_post(post_id):\n",
        "    return f'Post ID: {post_id}'\n",
        "\n",
        "with app.test_request_context():\n",
        "    print(url_for('index'))\n",
        "    print(url_for('show_user_profile', username='john_doe'))\n",
        "    print(url_for('show_post', post_id=123))\n",
        "    print(url_for('show_post', post_id=456, _external=True))"
      ],
      "metadata": {
        "id": "fFogeuLsv2KN"
      },
      "execution_count": null,
      "outputs": []
    },
    {
      "cell_type": "markdown",
      "source": [
        "Q17. How does Flask handle static files (CSS, JavaScript, etc.)?\n",
        "***\n",
        "Ans. Flask handles static files like CSS, JavaScript, and images by serving them from a designated \"static\" folder within our application's root directory.\n",
        "\n",
        "salient features of Flask's static file handling are:\n",
        "* Dedicated Static Folder.\n",
        "* url_for() for Linking."
      ],
      "metadata": {
        "id": "lN_L4WoPwBSj"
      }
    },
    {
      "cell_type": "markdown",
      "source": [
        "Q18. What is an API specification, and how does it help in building a Flask API?\n",
        "***\n",
        "Ans. Key Components of an API Specification:\n",
        "\n",
        "* Endpoints: URLs for accessing specific resources (e.g., /users, /products/<id>)\n",
        "\n",
        "* HTTP Methods: Actions supported by each endpoint (e.g., GET, POST, PUT, DELETE)\n",
        "\n",
        "* Request Parameters: Expected query parameters, path variables, headers, or body data\n",
        "\n",
        "* Response Format: Structure and type of response data (usually JSON or XML)\n",
        "\n",
        "* Status Codes: HTTP codes for success, errors, and other outcomes (e.g., 200 OK, 404 Not Found)\n",
        "\n",
        "* Authentication: How clients prove their identity (e.g., API keys, JWT tokens)\n"
      ],
      "metadata": {
        "id": "CVJOdhv3xSqU"
      }
    },
    {
      "cell_type": "markdown",
      "source": [
        "Q19. What are HTTP status codes, and why are they important in a Flask API?\n",
        "***\n",
        "Ans. HTTP status codes are three-digit codes that indicate the outcome of an API request. They are included in the API's response to the API client, and they include important information that helps the client know how to proceed.\n"
      ],
      "metadata": {
        "id": "wOwy_NdEyued"
      }
    },
    {
      "cell_type": "code",
      "source": [
        "from flask import Flask, jsonify\n",
        "\n",
        "app = Flask(__name__)\n",
        "\n",
        "@app.route(\"/success\")\n",
        "def success():\n",
        "    return jsonify({\"message\": \"All good!\"}), 200\n",
        "\n",
        "@app.route(\"/not_found\")\n",
        "def not_found():\n",
        "    return jsonify({\"error\": \"Resource not found\"}), 404\n",
        "\n",
        "@app.route(\"/bad_request\")\n",
        "def bad_request():\n",
        "    return jsonify({\"error\": \"Invalid input\"}), 400"
      ],
      "metadata": {
        "id": "mMufViJn0ZkL"
      },
      "execution_count": null,
      "outputs": []
    },
    {
      "cell_type": "markdown",
      "source": [
        "Q20. How do you handle POST requests in Flask?\n",
        "***\n",
        "Ans. Handling POST requests in Flask involves defining a route that accepts the POST method and then extracting data from the incoming request.\n",
        "1. Define a Route for POST Requests.\n",
        "\n",
        "Use the @app.route() decorator and specify methods=['POST'] to indicate that the decorated function should handle POST requests to that URL.\n"
      ],
      "metadata": {
        "id": "L5mYduDe0hOU"
      }
    },
    {
      "cell_type": "code",
      "source": [
        "from flask import Flask, request, redirect, url_for\n",
        "\n",
        "app = Flask(__name__)\n",
        "\n",
        "@app.route('/submit_form', methods=['POST'])\n",
        "def handle_form_submission():\n",
        "    # ... code to handle the POST request ...\n",
        "    return \"Form submitted successfully!\""
      ],
      "metadata": {
        "id": "jzjug7cR1Aft"
      },
      "execution_count": null,
      "outputs": []
    },
    {
      "cell_type": "markdown",
      "source": [
        "2. Accessing Form Data:\n",
        "For form submissions (where the method attribute of the HTML form is \"post\"), the data is typically sent as form data. Access this data using request.form."
      ],
      "metadata": {
        "id": "1HCl5i871Ftk"
      }
    },
    {
      "cell_type": "code",
      "source": [
        "@app.route('/submit_form', methods=['POST'])\n",
        "def handle_form_submission():\n",
        "    username = request.form.get('username')  # 'username' is the 'name' attribute of the input field\n",
        "    password = request.form.get('password')\n",
        "    # ... process username and password ...\n",
        "    return f\"Welcome, {username}!\""
      ],
      "metadata": {
        "id": "10Z8qaKF1JpU"
      },
      "execution_count": null,
      "outputs": []
    },
    {
      "cell_type": "markdown",
      "source": [
        "3. Accessing JSON Data:\n",
        "If the client sends data as JSON in the request body (common for API endpoints), use request.get_json() to parse the JSON data into a Python dictionary."
      ],
      "metadata": {
        "id": "6qCCLUTD1NMs"
      }
    },
    {
      "cell_type": "code",
      "source": [
        "@app.route('/api/create_user', methods=['POST'])\n",
        "def create_user():\n",
        "    user_data = request.get_json()\n",
        "    if user_data:\n",
        "        username = user_data.get('username')\n",
        "        email = user_data.get('email')\n",
        "        # ... process user_data ...\n",
        "        return f\"User {username} created successfully!\"\n",
        "    return \"Invalid data\", 400"
      ],
      "metadata": {
        "id": "ArvRInLl1PXk"
      },
      "execution_count": null,
      "outputs": []
    },
    {
      "cell_type": "markdown",
      "source": [
        "4. Handling File Uploads:\n",
        "For file uploads, ensure your HTML form has enctype=\"multipart/form-data\". Access uploaded files using request.files."
      ],
      "metadata": {
        "id": "cRP-z7J31UnE"
      }
    },
    {
      "cell_type": "code",
      "source": [
        "@app.route('/upload', methods=['POST'])\n",
        "def upload_file():\n",
        "    if 'file' in request.files:\n",
        "        uploaded_file = request.files['file']\n",
        "        if uploaded_file.filename != '':\n",
        "            uploaded_file.save(f'/path/to/save/{uploaded_file.filename}')\n",
        "            return \"File uploaded successfully!\"\n",
        "    return \"No file uploaded.\""
      ],
      "metadata": {
        "id": "svQD0er51Wj0"
      },
      "execution_count": null,
      "outputs": []
    },
    {
      "cell_type": "markdown",
      "source": [
        "5. Common Practices:\n",
        "Validation:\n",
        "Always validate incoming data to ensure it meets your requirements and prevent security vulnerabilities."
      ],
      "metadata": {
        "id": "NuulcsTT1aFs"
      }
    },
    {
      "cell_type": "markdown",
      "source": [
        "Q21. How would you secure a Flask API?\n",
        "***\n",
        "Securing a Flask API involves implementing various measures across different layers of your application.\n",
        "1. Authentication and Authorization:\n",
        "\n",
        "Token-based Authentication (e.g., JWT):\n",
        "This is a common and recommended approach for APIs. Users log in, receive a signed JSON Web Token (JWT), and include this token in subsequent requests for authentication. Libraries like Flask-JWT-Extended or PyJWT can facilitate this.\n",
        "\n",
        "OAuth 2.0:\n",
        "For more complex scenarios involving third-party applications or delegated access, integrate OAuth 2.0.\n",
        "Role-Based Access Control (RBAC):\n",
        "Define roles (e.g., admin, user) and assign specific permissions to each role. Implement authorization checks at the endpoint level to ensure users only access resources they are permitted to. Libraries like Flask-Security-Too can help with user management and role-based access.\n",
        "2. Data Security:\n",
        "HTTPS/TLS:\n",
        "Always use HTTPS to encrypt data in transit, protecting against eavesdropping and man-in-the-middle attacks.\n",
        "Secure Password Storage:\n",
        "Never store plain-text passwords. Use strong, one-way cryptographic hashing algorithms (e.g., bcrypt) with a salt for password storage.\n",
        "Data Encryption at Rest:\n",
        "If sensitive data is stored in a database or file system, consider encrypting it at rest.\n",
        "3. Input Validation and Sanitization:\n",
        "Prevent Injection Attacks:\n",
        "Validate and sanitize all user input to prevent SQL injection, XSS (Cross-Site Scripting), and other injection vulnerabilities. Use ORMs or parameterized queries for database interactions.\n",
        "Input Length and Type Checks:\n",
        "Ensure inputs conform to expected types and lengths to prevent buffer overflows or unexpected behavior.\n",
        "4. Session Management (if applicable):\n",
        "Secure Session Cookies: If using Flask sessions, ensure cookies are secure (e.g., HttpOnly, Secure flags) and the SECRET_KEY is strong and kept confidential, preferably loaded from environment variables.\n",
        "5. Rate Limiting and Throttling:\n",
        "Prevent Brute-Force Attacks and Abuse: Implement rate limiting to restrict the number of requests a user or IP address can make within a given time frame. Libraries like Flask-Limiter can assist."
      ],
      "metadata": {
        "id": "Bv3VVqCL1oEE"
      }
    },
    {
      "cell_type": "markdown",
      "source": [
        "Q22. What is the significance of the Flask-RESTful extension?\n",
        "***\n",
        "Ans. Flask-RESTful is a Flask extension that simplifies the development of REST APIs. It provides a structured way to handle resources and HTTP methods, making it easier to build and organize APIs using Python and Flask. Essentially, it streamlines the process of creating web services that adhere to REST architectural principles.\n",
        "1. Structure and Organization\n",
        "2. Simplified API Development\n",
        "3. Adherence to RESTful Principles\n",
        "4. Efficiency and Scalability"
      ],
      "metadata": {
        "id": "4sS1SsKc20a4"
      }
    },
    {
      "cell_type": "markdown",
      "source": [
        "Q23. What is the role of Flask’s session object?\n",
        "***\n",
        "Ans. In Flask, the session object provides a way to store user-specific data across multiple requests, similar to how cookies work but with added security features. It acts like a dictionary where you can store and retrieve data associated with a particular user's session. Flask uses cryptographically signed cookies to store session data on the user's browser, making it difficult for unauthorized users to tamper with the data.\n",
        "\n",
        "salient features:\n",
        "* User-Specific Data\n",
        "* Persistence Across Requests\n",
        "* Secure Storage\n",
        "* Dictionary-Like Interface"
      ],
      "metadata": {
        "id": "2PMflAs-3kiu"
      }
    },
    {
      "cell_type": "code",
      "source": [
        "    from flask import Flask, session\n",
        "\n",
        "    app = Flask(__name__)\n",
        "    app.secret_key = 'your_secret_key'  # Set a secret key for signing cookies\n",
        "\n",
        "    @app.route('/set_session/<name>')\n",
        "    def set_session(name):\n",
        "        session['name'] = name\n",
        "        return f'Session variable set to {name}'\n",
        "\n",
        "    @app.route('/get_session')\n",
        "    def get_session():\n",
        "        if 'name' in session:\n",
        "            name = session['name']\n",
        "            return f'Hello {name}!'\n",
        "        else:\n",
        "            return 'Session variable not found'"
      ],
      "metadata": {
        "id": "HiQx5PYg4bju"
      },
      "execution_count": null,
      "outputs": []
    },
    {
      "cell_type": "markdown",
      "source": [
        "# Practical\n",
        "***\n",
        "\n"
      ],
      "metadata": {
        "id": "l6S4HiBm4X-d"
      }
    },
    {
      "cell_type": "markdown",
      "source": [
        "Q1. How do you create a basic Flask application?\n",
        "***\n",
        "Ans."
      ],
      "metadata": {
        "id": "guBjyhBP4qP9"
      }
    },
    {
      "cell_type": "code",
      "source": [
        "from flask import Flask\n",
        "app = Flask(__name__)\n",
        "\n",
        "@app.route('/')\n",
        "def hello():\n",
        "    return \"Hello, World!\"\n",
        "\n",
        "if __name__ == '__main__':\n",
        "    app.run(debug=True)"
      ],
      "metadata": {
        "id": "xloVQP_95IjX"
      },
      "execution_count": null,
      "outputs": []
    },
    {
      "cell_type": "markdown",
      "source": [
        "Q2. How do you serve static files like images or CSS in Flask?\n",
        "***\n",
        "Ans.\n",
        "\n",
        "\n"
      ],
      "metadata": {
        "id": "Q1Cyrot95WbE"
      }
    },
    {
      "cell_type": "code",
      "source": [
        "from flask import Flask, render_template\n",
        "app = Flask(__name__)\n",
        "\n",
        "@app.route(\"/\")\n",
        "def index():\n",
        "   return render_template(\"index.html\")\n",
        "\n",
        "if __name__ == '__main__':\n",
        "   app.run(debug = True)\n",
        ""
      ],
      "metadata": {
        "id": "NUcsgPJt6mYW"
      },
      "execution_count": null,
      "outputs": []
    },
    {
      "cell_type": "markdown",
      "source": [
        "\n",
        "<html>\n",
        "   <head>\n",
        "      <script type = \"text/javascript\"\n",
        "         src = \"{{ url_for('static', filename = 'hello.js') }}\" ></script>\n",
        "   </head>\n",
        "   \n",
        "   <body>\n",
        "      <input type = \"button\" onclick = \"sayHello()\" value = \"Say Hello\" />\n",
        "   </body>\n",
        "</html>\n"
      ],
      "metadata": {
        "id": "QhIwDrQMIrsy"
      }
    },
    {
      "cell_type": "code",
      "source": [
        "function sayHello() {\n",
        "   alert(\"Hello World\")\n",
        "}"
      ],
      "metadata": {
        "id": "UuatlPE5JBqU"
      },
      "execution_count": null,
      "outputs": []
    },
    {
      "cell_type": "markdown",
      "source": [
        "Q3. How do you define different routes with different HTTP methods in Flask?\n",
        "***\n",
        "Ans. In Flask, you define routes using the @app.route() decorator and can specify which HTTP methods (like GET, POST, PUT, DELETE) a route should accept."
      ],
      "metadata": {
        "id": "yCHtNfQf7XCf"
      }
    },
    {
      "cell_type": "code",
      "source": [
        "from flask import Flask, request, jsonify\n",
        "\n",
        "app = Flask(__name__)\n",
        "\n",
        "@app.route('/user', methods=['GET', 'POST'])\n",
        "def user():\n",
        "    if request.method == 'GET':\n",
        "        return jsonify({\"message\": \"You sent a GET request\"})\n",
        "    elif request.method == 'POST':\n",
        "        data = request.json\n",
        "        return jsonify({\"message\": \"POST received\", \"data\": data}), 201\n",
        "\n",
        "if __name__ == '__main__':\n",
        "    app.run(debug=True)"
      ],
      "metadata": {
        "id": "1bIAITF38QU_"
      },
      "execution_count": null,
      "outputs": []
    },
    {
      "cell_type": "markdown",
      "source": [
        "Q4.  How do you render HTML templates in Flask?\n",
        "***\n",
        "Ans. Rendering HTML templates in Flask is done using the render_template() function and placing your HTML files in a special folder named templates/.\n",
        "\n",
        "1. Project Structure\n",
        "your_project/\n",
        "│\n",
        "├── app.py\n",
        "├── templates/\n",
        "│   └── home.html\n"
      ],
      "metadata": {
        "id": "zOEDXS088U0Q"
      }
    },
    {
      "cell_type": "code",
      "source": [
        "!pip install flask-ngrok\n",
        "from flask import Flask, render_template_string\n",
        "from flask_ngrok import run_with_ngrok\n",
        "\n",
        "app = Flask(__name__)\n",
        "run_with_ngrok(app)  # Starts ngrok tunnel\n",
        "\n",
        "# Define a simple HTML template as a string\n",
        "html_template = \"\"\"\n",
        "<!DOCTYPE html>\n",
        "<html>\n",
        "<head>\n",
        "    <title>Flask on Colab</title>\n",
        "</head>\n",
        "<body>\n",
        "    <h1>Hello, {{ name }}!</h1>\n",
        "</body>\n",
        "</html>\n",
        "\"\"\"\n",
        "\n",
        "@app.route('/')\n",
        "def home():\n",
        "    return render_template_string(html_template, name=\"Colab User\")\n",
        "\n",
        "app.run()"
      ],
      "metadata": {
        "id": "WyQCP_Jq9pnM"
      },
      "execution_count": null,
      "outputs": []
    },
    {
      "cell_type": "markdown",
      "source": [
        "Q5. How can you generate URLs for routes in Flask using url_for?\n",
        "***\n",
        "In Flask, the url_for() function is used to dynamically generate URLs for your routes. This is much better than hardcoding URLs because it's flexible, maintainable, and works even if you change route paths later.\n"
      ],
      "metadata": {
        "id": "evPCmISk-I1f"
      }
    },
    {
      "cell_type": "code",
      "source": [
        "!pip install flask-ngrok\n",
        "from flask import Flask\n",
        "from flask_ngrok import run_with_ngrok\n",
        "\n",
        "app = Flask(__name__)\n",
        "run_with_ngrok(app)  # Automatically starts ngrok when app.run() is called\n",
        "\n",
        "@app.route('/')\n",
        "def hello():\n",
        "    return \"Hello from Flask in Google Colab!\"\n",
        "\n",
        "app.run()\n",
        "\n",
        "\n"
      ],
      "metadata": {
        "id": "bDFVa3Jn-clg"
      },
      "execution_count": null,
      "outputs": []
    },
    {
      "cell_type": "markdown",
      "source": [
        "Q6. How do you handle forms in Flask?\n",
        "***\n",
        "\n",
        "\n",
        "```\n",
        "#CSS\n",
        "my_project/\n",
        "├── app.py\n",
        "└── templates/\n",
        "    └── form.html\n",
        "\n",
        "```\n",
        "\n",
        "\n",
        "```\n",
        "#html\n",
        "<!DOCTYPE html>\n",
        "<html>\n",
        "<head>\n",
        "    <title>Flask Form</title>\n",
        "</head>\n",
        "<body>\n",
        "    <h2>Enter your name</h2>\n",
        "    <form method=\"POST\">\n",
        "        <input type=\"text\" name=\"username\" placeholder=\"Your name\">\n",
        "        <input type=\"submit\" value=\"Submit\">\n",
        "    </form>\n",
        "</body>\n",
        "</html>\n",
        "\n",
        "```\n",
        "\n",
        "\n",
        "\n"
      ],
      "metadata": {
        "id": "PqtwUXWGDavx"
      }
    },
    {
      "cell_type": "code",
      "source": [
        "from flask import Flask, render_template, request\n",
        "\n",
        "app = Flask(__name__)\n",
        "\n",
        "@app.route('/', methods=['GET', 'POST'])\n",
        "def index():\n",
        "    if request.method == 'POST':\n",
        "        username = request.form['username']\n",
        "        return f\"<h1>Hello, {username}!</h1>\"\n",
        "    return render_template('form.html')\n",
        "\n",
        "if __name__ == '__main__':\n",
        "    app.run(debug=True)\n"
      ],
      "metadata": {
        "id": "-kiD_f3tD52Z"
      },
      "execution_count": null,
      "outputs": []
    },
    {
      "cell_type": "markdown",
      "source": [
        "Q7. How can you validate form data in Flask?\n",
        "\n",
        "---\n",
        "\n"
      ],
      "metadata": {
        "id": "jdsxZndiELkD"
      }
    },
    {
      "cell_type": "code",
      "source": [
        "from flask import Flask, request, render_template_string\n",
        "\n",
        "app = Flask(__name__)\n",
        "\n",
        "form_html = '''\n",
        "<form method=\"POST\">\n",
        "  Name: <input type=\"text\" name=\"name\"><br>\n",
        "  <input type=\"submit\" value=\"Submit\">\n",
        "</form>\n",
        "'''\n",
        "\n",
        "@app.route('/', methods=['GET', 'POST'])\n",
        "def form():\n",
        "    error = None\n",
        "    if request.method == 'POST':\n",
        "        name = request.form.get('name')\n",
        "        if not name:\n",
        "            error = \"Name is required.\"\n",
        "        else:\n",
        "            return f\"<h1>Hello, {name}!</h1>\"\n",
        "    return render_template_string(form_html + ('<p style=\"color:red;\">' + error + '</p>' if error else ''))\n",
        "\n",
        "if __name__ == '__main__':\n",
        "    app.run(debug=True)\n"
      ],
      "metadata": {
        "id": "a0NV7ADpERUw"
      },
      "execution_count": null,
      "outputs": []
    },
    {
      "cell_type": "markdown",
      "source": [
        "Q8. How do you manage sessions in Flask?\n",
        "***"
      ],
      "metadata": {
        "id": "DtBnvc2bEYkF"
      }
    },
    {
      "cell_type": "code",
      "source": [
        "#Import & Configure\n",
        "from flask import Flask, session, redirect, url_for, request\n",
        "\n",
        "app = Flask(__name__)\n",
        "app.secret_key = 'your_secret_key'  # Required to use sessions\n"
      ],
      "metadata": {
        "id": "trpQO51EErcy"
      },
      "execution_count": null,
      "outputs": []
    },
    {
      "cell_type": "code",
      "source": [
        "#2. Store Data in a Session\n",
        "@app.route('/login', methods=['POST'])\n",
        "def login():\n",
        "    username = request.form['username']\n",
        "    session['username'] = username  # Store user info in session\n",
        "    return redirect(url_for('profile'))"
      ],
      "metadata": {
        "id": "toEGrSRNE0uZ"
      },
      "execution_count": null,
      "outputs": []
    },
    {
      "cell_type": "code",
      "source": [
        "#3. Access Session Data\n",
        "@app.route('/profile')\n",
        "def profile():\n",
        "    if 'username' in session:\n",
        "        return f\"Logged in as {session['username']}\"\n",
        "    return redirect(url_for('login_form'))"
      ],
      "metadata": {
        "id": "FrQJBkgAE6FZ"
      },
      "execution_count": null,
      "outputs": []
    },
    {
      "cell_type": "code",
      "source": [
        "#4. Remove Data from Session (Logout)\n",
        "@app.route('/logout')\n",
        "def logout():\n",
        "    session.pop('username', None)  # Safely remove data\n",
        "    return \"Logged out\""
      ],
      "metadata": {
        "id": "t_vM4QSdFB46"
      },
      "execution_count": null,
      "outputs": []
    },
    {
      "cell_type": "markdown",
      "source": [
        "Q9. How do you redirect to a different route in Flask?\n",
        "***"
      ],
      "metadata": {
        "id": "_agwoVJQFI4d"
      }
    },
    {
      "cell_type": "code",
      "source": [
        "from flask import Flask, redirect, url_for\n",
        "app = Flask(__name__)\n",
        "@app.route('/')\n",
        "def home():\n",
        "    return 'Home Page'\n",
        "@app.route('/login')\n",
        "def login():\n",
        "    return redirect(url_for('home'))"
      ],
      "metadata": {
        "id": "x8Fcet0FFPhx"
      },
      "execution_count": null,
      "outputs": []
    },
    {
      "cell_type": "markdown",
      "source": [
        "Q10. How do you handle errors in Flask (e.g., 404)?\n",
        "***"
      ],
      "metadata": {
        "id": "ewfYagmUFcNc"
      }
    },
    {
      "cell_type": "code",
      "source": [
        "#Handle 404 Not Found\n",
        "from flask import Flask, render_template\n",
        "app = Flask(__name__)\n",
        "@app.errorhandler(404)\n",
        "def not_found_error(error):\n",
        "    return render_template(\"404.html\"), 404\n"
      ],
      "metadata": {
        "id": "58I5I8IBFsIe"
      },
      "execution_count": null,
      "outputs": []
    },
    {
      "cell_type": "code",
      "source": [
        "# Handle Other Errors (500, 403, etc.)\n",
        "@app.errorhandler(500)\n",
        "def internal_error(error):\n",
        "    return \"Internal server error occurred.\", 500\n",
        "\n",
        "@app.errorhandler(403)\n",
        "def forbidden_error(error):\n",
        "    return \"Access forbidden.\", 403"
      ],
      "metadata": {
        "id": "Cri_BVqBFxTS"
      },
      "execution_count": null,
      "outputs": []
    },
    {
      "cell_type": "markdown",
      "source": [
        "Q11. How do you structure a Flask app using Blueprints?\n",
        "***"
      ],
      "metadata": {
        "id": "k97SovDCF8zy"
      }
    },
    {
      "cell_type": "code",
      "source": [
        " #Define Blueprint Routes\n",
        " from flask import Blueprint, render_template\n",
        "\n",
        "home_bp = Blueprint('home', __name__, template_folder='../templates')\n",
        "\n",
        "@home_bp.route('/')\n",
        "def home():\n",
        "    return render_template('home.html', name='Blueprint World')"
      ],
      "metadata": {
        "id": "3jDsWlJ7GDIB"
      },
      "execution_count": null,
      "outputs": []
    },
    {
      "cell_type": "code",
      "source": [
        " #Main App File\n",
        " from flask import Flask\n",
        "from home.routes import home_bp\n",
        "\n",
        "app = Flask(__name__)\n",
        "app.register_blueprint(home_bp)\n",
        "\n",
        "if __name__ == '__main__':\n",
        "    app.run(debug=True)"
      ],
      "metadata": {
        "id": "rfA9mWmrGf_u"
      },
      "execution_count": null,
      "outputs": []
    },
    {
      "cell_type": "markdown",
      "source": [
        "\n",
        "\n",
        "```\n",
        "#Template Example\n",
        "<!DOCTYPE html>\n",
        "<html>\n",
        "<head><title>Home</title></head>\n",
        "<body>\n",
        "    <h1>Hello, {{ name }}!</h1>\n",
        "</body>\n",
        "</html>\n",
        "\n",
        "```\n",
        "\n"
      ],
      "metadata": {
        "id": "dIEKgdaDGuci"
      }
    },
    {
      "cell_type": "markdown",
      "source": [
        "Q12. How do you define a custom Jinja filter in Flask?\n",
        "***"
      ],
      "metadata": {
        "id": "1EIYpb5fG5WB"
      }
    },
    {
      "cell_type": "code",
      "source": [
        "#Define the Filter Function\n",
        "from flask import Flask\n",
        "\n",
        "app = Flask(__name__)\n",
        "def reverse_string(s):\n",
        "    return s[::-1]\n",
        "app.jinja_env.filters['reverse'] = reverse_string"
      ],
      "metadata": {
        "id": "qlQ2957fG8qy"
      },
      "execution_count": null,
      "outputs": []
    },
    {
      "cell_type": "markdown",
      "source": [
        "Q13. How can you redirect with query parameters in Flask?\n",
        "***"
      ],
      "metadata": {
        "id": "LUWq8pzPHXt6"
      }
    },
    {
      "cell_type": "code",
      "source": [
        "from flask import Flask, redirect, url_for, request\n",
        "\n",
        "app = Flask(__name__)\n",
        "\n",
        "@app.route('/')\n",
        "def home():\n",
        "    return redirect(url_for('greet', name='Alice', age=25))\n",
        "\n",
        "@app.route('/greet')\n",
        "def greet():\n",
        "    name = request.args.get('name')\n",
        "    age = request.args.get('age')\n",
        "    return f\"Hello {name}, you are {age} years old.\""
      ],
      "metadata": {
        "id": "qotP58iKHlrc"
      },
      "execution_count": null,
      "outputs": []
    },
    {
      "cell_type": "markdown",
      "source": [
        "Q14. How do you return JSON responses in Flask?\n",
        "***\n",
        "```\n",
        "{\n",
        "  \"name\": \"Flask\",\n",
        "  \"version\": 2.0,\n",
        "  \"status\": \"active\"\n",
        "}\n",
        "```"
      ],
      "metadata": {
        "id": "7SYDoGTcHpsS"
      }
    },
    {
      "cell_type": "code",
      "source": [
        "from flask import Flask, jsonify\n",
        "\n",
        "app = Flask(__name__)\n",
        "\n",
        "@app.route('/api/data')\n",
        "def get_data():\n",
        "    data = {\n",
        "        \"name\": \"Flask\",\n",
        "        \"version\": 2.0,\n",
        "        \"status\": \"active\"\n",
        "    }\n",
        "    return jsonify(data)\n"
      ],
      "metadata": {
        "id": "lAFEPYpgHwsB"
      },
      "execution_count": null,
      "outputs": []
    },
    {
      "cell_type": "markdown",
      "source": [
        "Q15. How do you capture URL parameters in Flask?\n",
        "***"
      ],
      "metadata": {
        "id": "y3GSfUs7IEi9"
      }
    },
    {
      "cell_type": "code",
      "source": [
        "from flask import Flask\n",
        "app = Flask(__name__)\n",
        "@app.route('/user/<username>')\n",
        "def show_user(username):\n",
        "    return f\"Hello, {username}!\""
      ],
      "metadata": {
        "id": "JxR5IbfeIMT6"
      },
      "execution_count": null,
      "outputs": []
    }
  ]
}